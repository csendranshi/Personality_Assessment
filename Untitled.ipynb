{
 "cells": [
  {
   "cell_type": "code",
   "execution_count": 2,
   "metadata": {},
   "outputs": [],
   "source": [
    "import csv\n",
    "\n",
    "# read tab-delimited file\n",
    "with open('D:\\GeneralDocs\\Sem6\\DMBI\\practicals\\exp_10\\data-final-csv.csv','r') as fin:\n",
    "    cr = csv.reader(fin, delimiter='\\t')\n",
    "    filecontents = [line for line in cr]\n",
    "\n",
    "# write comma-delimited file (comma is the default delimiter)\n",
    "with open('D:\\GeneralDocs\\Sem6\\DMBI\\practicals\\exp_10\\data-final_new.csv','w') as fou:\n",
    "    cw = csv.writer(fou, quotechar='', quoting=csv.QUOTE_NONE)\n",
    "    cw.writerows(filecontents)"
   ]
  },
  {
   "cell_type": "code",
   "execution_count": null,
   "metadata": {},
   "outputs": [],
   "source": []
  }
 ],
 "metadata": {
  "kernelspec": {
   "display_name": "Python 3",
   "language": "python",
   "name": "python3"
  },
  "language_info": {
   "codemirror_mode": {
    "name": "ipython",
    "version": 3
   },
   "file_extension": ".py",
   "mimetype": "text/x-python",
   "name": "python",
   "nbconvert_exporter": "python",
   "pygments_lexer": "ipython3",
   "version": "3.8.5"
  }
 },
 "nbformat": 4,
 "nbformat_minor": 4
}
